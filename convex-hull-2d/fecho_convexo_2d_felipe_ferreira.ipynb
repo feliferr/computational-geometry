{
 "cells": [
  {
   "cell_type": "markdown",
   "metadata": {
    "colab_type": "text",
    "id": "GgOztWY9I3QF"
   },
   "source": [
    "# Relatório de Implementação - Fecho convexo 2D"
   ]
  },
  {
   "cell_type": "markdown",
   "metadata": {
    "colab_type": "text",
    "id": "6bhkbiHdI6M7"
   },
   "source": [
    "* **ALUNO**: Felipe Alves Ferreira\n",
    "* **MATRÍCULA**: 1921167"
   ]
  },
  {
   "cell_type": "markdown",
   "metadata": {
    "colab_type": "text",
    "id": "kK9b6V2cJ9U9"
   },
   "source": [
    "## Gráfico com o Fecho Convexo da Nuvem de Pontos 1"
   ]
  },
  {
   "cell_type": "code",
   "execution_count": 56,
   "metadata": {
    "colab": {
     "base_uri": "https://localhost:8080/",
     "height": 269
    },
    "colab_type": "code",
    "id": "sYB0OlBgKD74",
    "outputId": "f7d42317-54f6-44c8-9598-f2db95c02ac1"
   },
   "outputs": [
    {
     "data": {
      "image/png": "[encoded data removed]",
      "text/plain": [
       "<Figure size 432x288 with 1 Axes>"
      ]
     },
     "metadata": {
      "tags": []
     },
     "output_type": "display_data"
    }
   ],
   "source": [
    "plot_fecho_convexo(df_nuvem1, fecho1)"
   ]
  },
  {
   "cell_type": "markdown",
   "metadata": {
    "colab_type": "text",
    "id": "p2QN7_gDKJ5N"
   },
   "source": [
    "## Vértices do Fecho Convexo da Nuvem de Pontos 1"
   ]
  },
  {
   "cell_type": "code",
   "execution_count": 57,
   "metadata": {
    "colab": {
     "base_uri": "https://localhost:8080/",
     "height": 163
    },
    "colab_type": "code",
    "id": "M_O3puU2KO9e",
    "outputId": "fd9d544e-4b20-44c5-81b1-2cf1e1a457e1"
   },
   "outputs": [
    {
     "name": "stdout",
     "output_type": "stream",
     "text": [
      "(360, 111)\n",
      "(510, 166)\n",
      "(534, 262)\n",
      "(497, 355)\n",
      "(411, 387)\n",
      "(265, 344)\n",
      "(267, 248)\n",
      "(315, 160)\n"
     ]
    }
   ],
   "source": [
    "for i in fecho1:\n",
    "  print(i)"
   ]
  },
  {
   "cell_type": "markdown",
   "metadata": {
    "colab_type": "text",
    "id": "w4rjJ13zKUV9"
   },
   "source": [
    "## Gráfico com o Fecho Convexo da Nuvem de Pontos 2"
   ]
  },
  {
   "cell_type": "code",
   "execution_count": 58,
   "metadata": {
    "colab": {
     "base_uri": "https://localhost:8080/",
     "height": 269
    },
    "colab_type": "code",
    "id": "XJzE7RlGKaYh",
    "outputId": "29340404-5e72-4fa8-8dc4-7658e6f8eaa2"
   },
   "outputs": [
    {
     "data": {
      "image/png": "[encoded data removed]",
      "text/plain": [
       "<Figure size 432x288 with 1 Axes>"
      ]
     },
     "metadata": {
      "tags": []
     },
     "output_type": "display_data"
    }
   ],
   "source": [
    "plot_fecho_convexo(df_nuvem2, fecho2)"
   ]
  },
  {
   "cell_type": "markdown",
   "metadata": {
    "colab_type": "text",
    "id": "CH6L9gvYKhRv"
   },
   "source": [
    "## Vértices do Fecho Convexo da Nuvem de Pontos 2"
   ]
  },
  {
   "cell_type": "code",
   "execution_count": 59,
   "metadata": {
    "colab": {
     "base_uri": "https://localhost:8080/",
     "height": 90
    },
    "colab_type": "code",
    "id": "EkI8dCS8Kjj9",
    "outputId": "5cfbdaf7-2b2b-48d8-fe24-53af14121d33"
   },
   "outputs": [
    {
     "name": "stdout",
     "output_type": "stream",
     "text": [
      "(496, 139)\n",
      "(500, 357)\n",
      "(214, 359)\n",
      "(221, 158)\n"
     ]
    }
   ],
   "source": [
    "for i in fecho2:\n",
    "  print(i)"
   ]
  },
  {
   "cell_type": "markdown",
   "metadata": {
    "colab_type": "text",
    "id": "admmZYjXK4g8"
   },
   "source": [
    "# Código-Fonte"
   ]
  },
  {
   "cell_type": "code",
   "execution_count": 0,
   "metadata": {
    "colab": {},
    "colab_type": "code",
    "id": "fo1-wC9nCeB0"
   },
   "outputs": [],
   "source": [
    "import numpy as np \n",
    "import matplotlib.pyplot as plt\n",
    "import pandas as pd\n",
    "from functools import cmp_to_key"
   ]
  },
  {
   "cell_type": "code",
   "execution_count": 45,
   "metadata": {
    "colab": {
     "base_uri": "https://localhost:8080/",
     "height": 35
    },
    "colab_type": "code",
    "id": "dIn_5aqmCvvU",
    "outputId": "829eb3d9-15c0-4615-addf-2e47359f7db6"
   },
   "outputs": [
    {
     "name": "stdout",
     "output_type": "stream",
     "text": [
      "Drive already mounted at /content/drive; to attempt to forcibly remount, call drive.mount(\"/content/drive\", force_remount=True).\n"
     ]
    }
   ],
   "source": [
    "from google.colab import drive\n",
    "drive.mount('/content/drive')"
   ]
  },
  {
   "cell_type": "code",
   "execution_count": 0,
   "metadata": {
    "colab": {},
    "colab_type": "code",
    "id": "aMgQB7a2C9qT"
   },
   "outputs": [],
   "source": [
    "def load_and_sort_points(df):\n",
    "  xs = df['x'].tolist()\n",
    "  ys = df['y'].tolist()\n",
    "  lista = []\n",
    "  lista_points = []\n",
    "  for i in range(len(xs)):\n",
    "    lista.append([xs[i],ys[i]])\n",
    "  \n",
    "  for i in sorted(lista):\n",
    "    lista_points.append(Point(i[0],i[1]))\n",
    "\n",
    "  return lista_points"
   ]
  },
  {
   "cell_type": "code",
   "execution_count": 0,
   "metadata": {
    "colab": {},
    "colab_type": "code",
    "id": "qkkJiYg8C9t1"
   },
   "outputs": [],
   "source": [
    "def plot_convex_hull(df, x_list, y_list):\n",
    "    xs = df['x'].tolist()\n",
    "    ys = df['y'].tolist()\n",
    "\n",
    "    xs.append(df['x'].values[0])\n",
    "    ys.append(df['y'].values[0])\n",
    "\n",
    "    fig = plt.figure()\n",
    "    ax = fig.add_subplot(111)\n",
    "    plt.plot(x_list,y_list, 'r')\n",
    "    plt.scatter(xs, ys)\n",
    "    plt.show()"
   ]
  },
  {
   "cell_type": "code",
   "execution_count": 0,
   "metadata": {
    "colab": {},
    "colab_type": "code",
    "id": "KK0UH3FVCv0r"
   },
   "outputs": [],
   "source": [
    "class Point:\n",
    "    def __init__(self, x, y):\n",
    "        self.x = x\n",
    "        self.y = y\n",
    "\n",
    "    def subtract(self, p):\n",
    "    \treturn Point(self.x - p.x, self.y - p.y)\n",
    "\n",
    "    def __str__(self):\n",
    "        return '(' + str(self.x) + ', ' + str(self.y) + ')'\n",
    "\n",
    "# calcula o produto cruzado do vetor p1 e p2\n",
    "# Se p1 estiver no sentido horário a partir da origem p2 wrt, ele retornará o valor + ve\n",
    "# se p2 for anti-horário a partir da origem p2 wrt, ele retornará -ve value\n",
    "# se p1 p2 e origem são colineares, então ele retorna 0\n",
    "def cross_product(p1, p2):\n",
    "\treturn p1.x * p2.y - p2.x * p1.y"
   ]
  },
  {
   "cell_type": "code",
   "execution_count": 0,
   "metadata": {
    "colab": {},
    "colab_type": "code",
    "id": "-VViGA9XCv-H"
   },
   "outputs": [],
   "source": [
    "# retorna o produto cruzado do vetor p1p3 e p1p2\n",
    "# se p1p3 estiver no sentido horário de p1p2, ele retornará o valor + ve\n",
    "# se p1p3 estiver no sentido anti-horário de p1p2, retornará -ve value\n",
    "# se p1 p2 e p3 são colineares, retorna 0\n",
    "def direction(p1, p2, p3):\n",
    "\treturn  cross_product(p3.subtract(p1), p2.subtract(p1))"
   ]
  },
  {
   "cell_type": "code",
   "execution_count": 0,
   "metadata": {
    "colab": {},
    "colab_type": "code",
    "id": "12RpgO9fCiiY"
   },
   "outputs": [],
   "source": [
    "def find_min_y(points):\n",
    "    miny = 999999\n",
    "    mini = 0\n",
    "    for i, point in enumerate(points):\n",
    "        if point.y < miny:\n",
    "            miny = point.y\n",
    "            mini = i\n",
    "        if point.y == miny:\n",
    "            if point.x < points[mini].x:\n",
    "                mini = i\n",
    "    return points[mini], mini\n",
    "\n",
    "# comparador para a ordenação\n",
    "def polar_comparator(p1, p2, p0):\n",
    "    d = direction(p0, p1, p2)\n",
    "    if d < 0:\n",
    "        return -1\n",
    "    if d > 0:\n",
    "        return 1\n",
    "    if d == 0:\n",
    "        if distance_sq(p1, p0) < distance_sq(p2, p0):\n",
    "            return -1\n",
    "        else:\n",
    "            return 1\n",
    "\n",
    "def algoritmo_graham(points):\n",
    "    # seja p0 o ponto com coordenada y mínima,\n",
    "    # ou o ponto mais à esquerda em caso de empate\n",
    "    p0, index = find_min_y(points)\n",
    "    \n",
    "    # swap p[0] com p[index]\n",
    "    points[0], points[index] = points[index], points[0]\n",
    "    \n",
    "    # ordena os pontos (exceto p0) de acordo com o ângulo polar\n",
    "    # feita pelo segmento de linha com eixo x no sentido anti-horário\n",
    "    sorted_polar = sorted(points[1:], key=cmp_to_key(lambda p1, p2: polar_comparator(p1, p2, p0)))\n",
    "    \n",
    "    # se mais de dois pontos forem colineares com p0, mantenha o mais distante\n",
    "    to_remove = []\n",
    "    for i in range(len(sorted_polar) - 1):\n",
    "        d = direction(sorted_polar[i], sorted_polar[i + 1], p0)\n",
    "        if d == 0:\n",
    "            to_remove.append(i)\n",
    "    sorted_polar = [i for j, i in enumerate(sorted_polar) if j not in to_remove]\n",
    "\n",
    "   \n",
    "    m = len(sorted_polar)\n",
    "    if m < 2:\n",
    "        print('Fecho convexo vazio !')\n",
    "\n",
    "    else:\n",
    "        stack = []\n",
    "        stack_size = 0\n",
    "        stack.append(points[0])\n",
    "        stack.append(sorted_polar[0])\n",
    "        stack.append(sorted_polar[1])\n",
    "        stack_size = 3\n",
    "\n",
    "        for i in range(2, m):\n",
    "            while (True):\n",
    "                d = direction(stack[stack_size - 2], stack[stack_size - 1], sorted_polar[i])\n",
    "                if d < 0: # se virar à esquerda\n",
    "                    break\n",
    "                else: # se virar à esquerda\n",
    "                    stack.pop()\n",
    "                    stack_size -= 1\n",
    "            stack.append(sorted_polar[i])\n",
    "            stack_size += 1\n",
    "    return stack"
   ]
  },
  {
   "cell_type": "code",
   "execution_count": 0,
   "metadata": {
    "colab": {},
    "colab_type": "code",
    "id": "W5TrF-lSILLP"
   },
   "outputs": [],
   "source": [
    "def plot_fecho_convexo(df, points_fecho):\n",
    "  lista_x = []\n",
    "  lista_y = []\n",
    "  for i in points_fecho:\n",
    "    lista_x.append(i.x)\n",
    "    lista_y.append(i.y)\n",
    "  lista_x.append(points_fecho[0].x)\n",
    "  lista_y.append(points_fecho[0].y)\n",
    "\n",
    "  plot_convex_hull(df, lista_x, lista_y)"
   ]
  },
  {
   "cell_type": "code",
   "execution_count": 52,
   "metadata": {
    "colab": {
     "base_uri": "https://localhost:8080/",
     "height": 110
    },
    "colab_type": "code",
    "id": "EPXNE3MOCi0z",
    "outputId": "f1a87b4c-8dad-4dd2-8af3-11ef0ed2015d"
   },
   "outputs": [
    {
     "name": "stderr",
     "output_type": "stream",
     "text": [
      "/usr/local/lib/python3.6/dist-packages/ipykernel_launcher.py:1: ParserWarning: Falling back to the 'python' engine because the 'c' engine does not support regex separators (separators > 1 char and different from '\\s+' are interpreted as regex); you can avoid this warning by specifying engine='python'.\n",
      "  \"\"\"Entry point for launching an IPython kernel.\n",
      "/usr/local/lib/python3.6/dist-packages/ipykernel_launcher.py:2: ParserWarning: Falling back to the 'python' engine because the 'c' engine does not support regex separators (separators > 1 char and different from '\\s+' are interpreted as regex); you can avoid this warning by specifying engine='python'.\n",
      "  \n"
     ]
    }
   ],
   "source": [
    "df_nuvem1 = pd.read_csv(\"/content/drive/My Drive/geometria_computacional/fecho1.txt\", sep=\"   \", header=None, names=[\"x\",\"y\"])\n",
    "df_nuvem2 = pd.read_csv(\"/content/drive/My Drive/geometria_computacional/fecho2.txt\", sep=\"   \", header=None, names=[\"x\",\"y\"])"
   ]
  },
  {
   "cell_type": "code",
   "execution_count": 0,
   "metadata": {
    "colab": {},
    "colab_type": "code",
    "id": "-ii69IzdDduA"
   },
   "outputs": [],
   "source": [
    "points1 = load_and_sort_points(df_nuvem1)\n",
    "points2 = load_and_sort_points(df_nuvem2)"
   ]
  },
  {
   "cell_type": "code",
   "execution_count": 0,
   "metadata": {
    "colab": {},
    "colab_type": "code",
    "id": "2DczRBzJHm_h"
   },
   "outputs": [],
   "source": [
    "fecho1 = algoritmo_graham(points1)\n",
    "fecho2 = algoritmo_graham(points2)"
   ]
  }
 ],
 "metadata": {
  "colab": {
   "collapsed_sections": [],
   "name": "fecho-convexo-2d-felipe-ferreira.ipynb",
   "provenance": []
  },
  "kernelspec": {
   "display_name": "Python 3",
   "language": "python",
   "name": "python3"
  },
  "language_info": {
   "codemirror_mode": {
    "name": "ipython",
    "version": 3
   },
   "file_extension": ".py",
   "mimetype": "text/x-python",
   "name": "python",
   "nbconvert_exporter": "python",
   "pygments_lexer": "ipython3",
   "version": "3.6.5"
  }
 },
 "nbformat": 4,
 "nbformat_minor": 1
}
